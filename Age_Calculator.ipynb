{
  "nbformat": 4,
  "nbformat_minor": 0,
  "metadata": {
    "colab": {
      "provenance": []
    },
    "kernelspec": {
      "name": "python3",
      "display_name": "Python 3"
    },
    "language_info": {
      "name": "python"
    }
  },
  "cells": [
    {
      "cell_type": "markdown",
      "source": [
        "# Import Libraries"
      ],
      "metadata": {
        "id": "ZKhp5-FZw0uu"
      }
    },
    {
      "cell_type": "code",
      "source": [
        "from datetime import datetime, timedelta\n",
        "import time"
      ],
      "metadata": {
        "id": "XrWtcJeTw3G6"
      },
      "execution_count": null,
      "outputs": []
    },
    {
      "cell_type": "markdown",
      "source": [
        "# Age Calculator Function"
      ],
      "metadata": {
        "id": "1F5NrmfCw63l"
      }
    },
    {
      "cell_type": "code",
      "source": [
        "def calculate_age(birth_datetime):\n",
        "    today = datetime.now()\n",
        "    age = (today - birth_datetime).total_seconds() / (365.25 * 24 * 60 * 60)\n",
        "    return round(age, 9)\n"
      ],
      "metadata": {
        "id": "Odf_6VGVw6iA"
      },
      "execution_count": null,
      "outputs": []
    },
    {
      "cell_type": "markdown",
      "source": [
        "# Main Function"
      ],
      "metadata": {
        "id": "uk47CABZw-Xd"
      }
    },
    {
      "cell_type": "code",
      "source": [
        "def main():\n",
        "    try:\n",
        "        year = int(input(\"Enter the year of your birthday (YYYY): \"))\n",
        "        month = int(input(\"Enter the month of your birthday (1-12): \"))\n",
        "        day = int(input(\"Enter the day of your birthday (1-31): \"))\n",
        "        hour = int(input(\"Enter the hour of your birthday (0-23): \"))\n",
        "        minute = int(input(\"Enter the minute of your birthday (0-59): \"))\n",
        "\n",
        "        birthday = datetime(year, month, day, hour, minute)\n",
        "        while True:\n",
        "            age = calculate_age(birthday)\n",
        "            print(\"{:.9f}\".format(age))\n",
        "            time.sleep(3)\n",
        "    except ValueError:\n",
        "        print(\"Please enter valid date and time components.\")\n",
        "    except KeyboardInterrupt:\n",
        "        print(\"\\nExiting...\")\n",
        "\n",
        "if __name__ == \"__main__\":\n",
        "    main()"
      ],
      "metadata": {
        "colab": {
          "base_uri": "https://localhost:8080/"
        },
        "id": "GKrSD7UkNIr-",
        "outputId": "b9b82000-58ad-43b1-b265-c19330e35456"
      },
      "execution_count": null,
      "outputs": [
        {
          "output_type": "stream",
          "name": "stdout",
          "text": [
            "22.692193395\n",
            "22.692193490\n",
            "22.692193586\n",
            "22.692193681\n",
            "22.692193776\n",
            "22.692193871\n",
            "22.692193966\n",
            "22.692194062\n",
            "22.692194157\n",
            "22.692194252\n",
            "22.692194347\n",
            "22.692194442\n",
            "22.692194537\n",
            "22.692194633\n",
            "22.692194728\n",
            "22.692194823\n",
            "22.692194918\n",
            "22.692195013\n",
            "22.692195108\n",
            "22.692195204\n",
            "22.692195299\n",
            "22.692195394\n",
            "22.692195489\n",
            "22.692195584\n",
            "22.692195679\n",
            "22.692195775\n",
            "22.692195870\n",
            "22.692195965\n",
            "22.692196060\n",
            "22.692196155\n",
            "22.692196250\n",
            "22.692196346\n",
            "22.692196441\n",
            "22.692196536\n",
            "22.692196631\n",
            "22.692196726\n",
            "22.692196821\n",
            "22.692196917\n",
            "22.692197012\n",
            "22.692197107\n",
            "22.692197202\n",
            "22.692197297\n",
            "22.692197392\n",
            "22.692197488\n",
            "22.692197583\n",
            "22.692197678\n",
            "22.692197773\n",
            "22.692197868\n",
            "22.692197963\n",
            "22.692198059\n",
            "22.692198154\n",
            "22.692198249\n",
            "22.692198344\n",
            "22.692198439\n",
            "22.692198534\n",
            "22.692198630\n",
            "22.692198725\n",
            "22.692198820\n",
            "22.692198915\n",
            "22.692199010\n",
            "22.692199105\n",
            "22.692199201\n",
            "22.692199296\n",
            "22.692199391\n",
            "22.692199486\n",
            "22.692199581\n",
            "22.692199676\n",
            "22.692199771\n",
            "22.692199867\n",
            "22.692199962\n",
            "22.692200057\n",
            "22.692200152\n",
            "22.692200247\n",
            "22.692200342\n",
            "22.692200438\n",
            "22.692200533\n",
            "22.692200628\n",
            "22.692200723\n",
            "22.692200818\n",
            "22.692200913\n",
            "22.692201009\n",
            "22.692201104\n",
            "22.692201199\n",
            "22.692201294\n",
            "22.692201389\n",
            "22.692201484\n",
            "22.692201580\n",
            "22.692201675\n",
            "22.692201770\n",
            "22.692201865\n",
            "22.692201960\n",
            "22.692202055\n",
            "22.692202151\n",
            "22.692202246\n",
            "22.692202341\n",
            "22.692202436\n",
            "22.692202531\n",
            "22.692202626\n",
            "22.692202721\n",
            "22.692202817\n",
            "22.692202912\n",
            "22.692203007\n",
            "22.692203102\n",
            "22.692203197\n",
            "22.692203292\n",
            "22.692203388\n",
            "22.692203483\n",
            "22.692203578\n",
            "22.692203673\n",
            "22.692203768\n",
            "22.692203863\n",
            "22.692203959\n",
            "22.692204054\n",
            "22.692204149\n",
            "22.692204244\n",
            "22.692204339\n",
            "22.692204434\n",
            "22.692204530\n",
            "22.692204625\n",
            "22.692204720\n",
            "22.692204815\n",
            "22.692204910\n",
            "22.692205005\n",
            "22.692205101\n",
            "22.692205196\n",
            "22.692205291\n",
            "22.692205386\n",
            "22.692205481\n",
            "22.692205576\n",
            "22.692205672\n",
            "22.692205767\n",
            "22.692205862\n",
            "22.692205957\n",
            "22.692206052\n",
            "22.692206147\n",
            "22.692206243\n",
            "22.692206338\n",
            "22.692206433\n",
            "22.692206528\n",
            "22.692206623\n",
            "22.692206718\n",
            "22.692206814\n",
            "22.692206909\n",
            "22.692207004\n",
            "22.692207099\n",
            "22.692207194\n",
            "22.692207289\n",
            "22.692207385\n",
            "22.692207480\n",
            "\n",
            "Exiting...\n"
          ]
        }
      ]
    },
    {
      "cell_type": "markdown",
      "source": [
        "# Age-Calculator\n",
        "\n",
        "### There is a simple code for **show your age exact**. This code get your exact time of birthady like 3.10.2002, 12:00, and calculate your age and update it each 3 seconds. You can run Age_Calculator.py file to look your age online :)"
      ],
      "metadata": {
        "id": "oTx49i2RwxRz"
      }
    }
  ]
}